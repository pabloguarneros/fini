{
 "cells": [
  {
   "cell_type": "code",
   "execution_count": 3,
   "metadata": {},
   "outputs": [],
   "source": [
    "from portfolio.capm import MarketPortfolio \n",
    "from assets.stocks import Stock\n",
    "from portfolio.main import Portfolio"
   ]
  },
  {
   "cell_type": "code",
   "execution_count": 4,
   "metadata": {},
   "outputs": [
    {
     "data": {
      "text/plain": [
       "1.0"
      ]
     },
     "execution_count": 4,
     "metadata": {},
     "output_type": "execute_result"
    }
   ],
   "source": [
    "market_portfolio = MarketPortfolio(   expected_return=0.14,\n",
    "                            returns_stdev=0.25,\n",
    "                            risk_free_rate=0.06\n",
    "                        ) \n",
    "portfolio = Portfolio(expected_return=0.16)\n",
    "portfolio.get_beta(market_portfolio) # 1.25\n",
    "portfolio.get_stdev(market_portfolio) # 0.3125\n",
    "portfolio.get_market_correlation(market_portfolio) # 1"
   ]
  },
  {
   "cell_type": "code",
   "execution_count": 5,
   "metadata": {},
   "outputs": [
    {
     "name": "stdout",
     "output_type": "stream",
     "text": [
      "0.13\n"
     ]
    },
    {
     "data": {
      "text/plain": [
       "-0.008999999999999994"
      ]
     },
     "execution_count": 5,
     "metadata": {},
     "output_type": "execute_result"
    }
   ],
   "source": [
    "stockA = Stock(market_beta=0.7,\n",
    "        expected_return=0.097,\n",
    "        return_volatility=0.51)\n",
    "market_portfolio = MarketPortfolio(expected_return=0.13,\n",
    "                        returns_stdev=0.35, risk_free_rate=0.05) \n",
    "\n",
    "stockA.get_market_alpha(market_portfolio) # -0.9%\n",
    "stockA.get_market_stdev(market_portfolio) # 44.73"
   ]
  },
  {
   "cell_type": "code",
   "execution_count": null,
   "metadata": {},
   "outputs": [],
   "source": []
  }
 ],
 "metadata": {
  "interpreter": {
   "hash": "da1f2ad577c6a2e9df1bc8e1e9e0da21eb2ec86ff5846d2c3db3742cec64e96d"
  },
  "kernelspec": {
   "display_name": "Python 3.7.11 ('geo_spatial')",
   "language": "python",
   "name": "python3"
  },
  "language_info": {
   "codemirror_mode": {
    "name": "ipython",
    "version": 3
   },
   "file_extension": ".py",
   "mimetype": "text/x-python",
   "name": "python",
   "nbconvert_exporter": "python",
   "pygments_lexer": "ipython3",
   "version": "3.7.11"
  },
  "orig_nbformat": 4
 },
 "nbformat": 4,
 "nbformat_minor": 2
}
