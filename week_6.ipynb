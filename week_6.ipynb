{
 "cells": [
  {
   "cell_type": "code",
   "execution_count": 1,
   "metadata": {},
   "outputs": [],
   "source": [
    "from corporate import budgeting as bg"
   ]
  },
  {
   "cell_type": "markdown",
   "metadata": {},
   "source": [
    "\"You are the CFO of WeSoft, an established software company listed on NASDAQ with a diversified portfolio of products and services. You are thinking about investing in a new fintech venture and need the correct discount rate in order to value it. WeSoft is 100% shareholder owned, has a market beta of 1.3. You also find several small NASDAQ companies focusing on similar fintech businesses as your new venture. All of these firms are 100% shareholder owned. The average market beta of these firms is 0.9. Assume CAPM holds, the risk premium on the market portfolio is 9% and the current risk-free rate is 2%.\""
   ]
  },
  {
   "cell_type": "code",
   "execution_count": 2,
   "metadata": {},
   "outputs": [
    {
     "name": "stdout",
     "output_type": "stream",
     "text": [
      "0.13699999999999998\n",
      "0.101\n"
     ]
    }
   ],
   "source": [
    "print(bg.get_cost_of_capital(beta=1.3,rf=0.02,rp=0.09)) #13.7%\n",
    "print(bg.get_cost_of_capital(beta=0.9,rf=0.02,rp=0.09)) #10.1%"
   ]
  },
  {
   "cell_type": "markdown",
   "metadata": {},
   "source": [
    "Future Fund, a VC fund, is considering buying a private company, AeroX, specializing in manufacturing aerospace products. After obtaining forecasts on AeroX's future cash flows, Future Fund needs to find the right discount rate to value the company. There are no pure-play companies traded in the market with business similar to that of AeroX. However, there are two traded companies, A and B, with businesses in manufacturing aerospace products and advanced auto parts. Both companies are all equity financed with the following information.\n",
    "\n",
    "From the information on companies A and B, find the market beta for aerospace product manufacturing.\n",
    "\n",
    "Assume that CAPM holds, the risk premium on the market portfolio is 7% and the current risk-free rate is 3%. What is the cost of capital for AeroX?"
   ]
  },
  {
   "cell_type": "code",
   "execution_count": 3,
   "metadata": {},
   "outputs": [
    {
     "name": "stdout",
     "output_type": "stream",
     "text": [
      "[[1.15]]\n",
      "0.1105\n"
     ]
    }
   ],
   "source": [
    "companies = [\n",
    "    {\n",
    "        \"beta\":1.4,\n",
    "        \"weights\":{\"aerospace\":0.5,\"auto_parts\":0.5}\n",
    "    },\n",
    "    {\n",
    "        \"beta\":1.2,\n",
    "        \"weights\":{\"aerospace\":0.9,\"auto_parts\":0.1}\n",
    "    }]\n",
    "print(bg.get_industry_beta(companies, \"aerospace\")) #1.15\n",
    "print(bg.get_cost_of_capital(beta=1.15,rf=0.03,rp=0.07)) # 11.05%"
   ]
  },
  {
   "cell_type": "code",
   "execution_count": null,
   "metadata": {},
   "outputs": [],
   "source": []
  },
  {
   "cell_type": "code",
   "execution_count": null,
   "metadata": {},
   "outputs": [],
   "source": []
  },
  {
   "cell_type": "code",
   "execution_count": 8,
   "metadata": {},
   "outputs": [],
   "source": [
    "import numpy as np\n",
    "def get_factor_prices(reference_assets):\n",
    "\n",
    "    ''' Get x values given reference assets\n",
    "    '''\n",
    "    asset_loadings = []\n",
    "    asset_returns = []\n",
    "    for asset in reference_assets.values():\n",
    "        loadings = [asset[\"rf\"],asset[\"b1\"],asset[\"b2\"]]\n",
    "        asset_loadings.append(loadings)\n",
    "        asset_returns.append([asset[\"r\"]])\n",
    "\n",
    "    r, f1, f2 = np.linalg.inv(np.matrix(asset_loadings))@np.matrix(asset_returns)\n",
    "    return (float(r), float(f1), float(f2))\n",
    "\n",
    "def get_cost_of_capital_state_model(asset, loadings):\n",
    "    r, f1, f2 = loadings\n",
    "    return r + f1*asset[\"b1\"] + f2*asset[\"b2\"]\n",
    "\n",
    "def get_present_value(asset, reference_assets):\n",
    "    state_loadings = get_factor_prices(reference_assets)\n",
    "    r = get_cost_of_capital_state_model(asset,state_loadings)\n",
    "    return asset[\"c_1\"]/(r-asset[\"g\"])\n"
   ]
  },
  {
   "cell_type": "code",
   "execution_count": 9,
   "metadata": {},
   "outputs": [
    {
     "data": {
      "text/plain": [
       "102.66940451745378"
      ]
     },
     "execution_count": 9,
     "metadata": {},
     "output_type": "execute_result"
    }
   ],
   "source": [
    "reference_assets = {\n",
    "    \"A\":{\"rf\":1, \"b1\":0, \"b2\":0, \"r\":0.01},\n",
    "    \"B\":{\"rf\":1, \"b1\":1, \"b2\":0, \"r\":0.065},\n",
    "    \"C\":{\"rf\":1, \"b1\":0.5, \"b2\":0.5, \"r\":0.114},\n",
    "}\n",
    "asset = {\n",
    "    \"b1\": 1.3,\n",
    "    \"b2\": 0.3,\n",
    "    \"c_1\": 10,\n",
    "    \"g\": 0.03\n",
    "}\n",
    "get_present_value(asset, reference_assets) #102.67 (given r = 0.1274) and f1=0.055, f2=0.153"
   ]
  },
  {
   "cell_type": "code",
   "execution_count": 9,
   "metadata": {},
   "outputs": [
    {
     "name": "stdout",
     "output_type": "stream",
     "text": [
      "0.01 [[0.055]] [[0.153]]\n",
      "0.1274\n",
      "102.66940451745378\n"
     ]
    }
   ],
   "source": [
    "import numpy as np\n",
    "\n",
    "## solve linear equations (get r,f1,f2 for reference assets)\n",
    "asset_loadings = [[1,0,0],[1,1,0],[1,0.5,0.5]]\n",
    "expected_returns = [[0.01],[0.065],[0.114]]\n",
    "r, f1, f2 = np.linalg.inv(np.matrix(asset_loadings))@np.matrix(expected_returns)\n",
    "print(float(r), f1, f2) # 0.01, #0.055, #0.153\n",
    "\n",
    "## giving cost of capital BOOM\n",
    "boom = {\"b1\":1.3,\"b2\":0.3}\n",
    "boom[\"r\"] = float(r) + float(f1)*boom[\"b1\"] + float(f2)*boom[\"b2\"]\n",
    "print(boom[\"r\"]) # 0.1274\n",
    "\n",
    "# present value of BOOM given in perpetuity\n",
    "cashflow_y1 = 10\n",
    "g = 0.03\n",
    "present_value = cashflow_y1/(boom[\"r\"]-0.03)\n",
    "print(present_value) #102.67\n"
   ]
  },
  {
   "cell_type": "markdown",
   "metadata": {},
   "source": [
    "also to add in the future, for a specific number\n",
    "- convert to %\n",
    "- set decimals"
   ]
  }
 ],
 "metadata": {
  "interpreter": {
   "hash": "da1f2ad577c6a2e9df1bc8e1e9e0da21eb2ec86ff5846d2c3db3742cec64e96d"
  },
  "kernelspec": {
   "display_name": "Python 3.7.11 ('geo_spatial')",
   "language": "python",
   "name": "python3"
  },
  "language_info": {
   "codemirror_mode": {
    "name": "ipython",
    "version": 3
   },
   "file_extension": ".py",
   "mimetype": "text/x-python",
   "name": "python",
   "nbconvert_exporter": "python",
   "pygments_lexer": "ipython3",
   "version": "3.7.11"
  },
  "orig_nbformat": 4
 },
 "nbformat": 4,
 "nbformat_minor": 2
}
