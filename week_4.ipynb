{
 "cells": [
  {
   "cell_type": "code",
   "execution_count": 1,
   "metadata": {},
   "outputs": [],
   "source": [
    "from portfolio.main import Portfolio\n",
    "from assets.funds import ETF"
   ]
  },
  {
   "cell_type": "code",
   "execution_count": 3,
   "metadata": {},
   "outputs": [],
   "source": [
    "s_p = ETF(\"A\", r=0.09,stdev=0.2)\n",
    "mm = ETF(\"MM\", r=0.2,stdev=0)\n",
    "emerging = ETF(\"C\", r=0.09,stdev=.55)\n",
    "\n",
    "portfolio = Portfolio()\n",
    "portfolio.load_assets(  [s_p,mm,emerging],\n",
    "                        [, 0,0.6],\n",
    "                        [[s_p.stdev*s_p.stdev,0,0],[0,mm.stdev*mm.stdev,0],[0,0,emerging.stdev*emerging.stdev]])"
   ]
  },
  {
   "cell_type": "code",
   "execution_count": 4,
   "metadata": {},
   "outputs": [
    {
     "data": {
      "text/plain": [
       "(0.09, 0.3395585369269929)"
      ]
     },
     "execution_count": 4,
     "metadata": {},
     "output_type": "execute_result"
    }
   ],
   "source": [
    "portfolio.get_return(), portfolio.get_variance()**(1/2)"
   ]
  },
  {
   "cell_type": "markdown",
   "metadata": {},
   "source": [
    "### Question 1\n",
    "There are only two securities (ABC and XYZ, no risk free asset) in the market. Expected returns and standard deviations are as follows:\n",
    "Your portfolio consists of 58% ABC and 42% XYZ.\n",
    "Calculation expected return and standard deviation given the correlation."
   ]
  },
  {
   "cell_type": "code",
   "execution_count": 2,
   "metadata": {},
   "outputs": [],
   "source": [
    "A = ETF(\"A\", r=0.05,stdev=0.1)\n",
    "B = ETF(\"B\", r=0.2,stdev=0.4)\n",
    "\n",
    "portfolio = Portfolio()\n",
    "portfolio.load_assets(  [A,B],\n",
    "                        [0, 0],\n",
    "                        [[A.stdev*A.stdev,0],[0,B.stdev,B.stdev]])"
   ]
  },
  {
   "cell_type": "code",
   "execution_count": 3,
   "metadata": {},
   "outputs": [
    {
     "data": {
      "text/plain": [
       "0.6666666666666666"
      ]
     },
     "execution_count": 3,
     "metadata": {},
     "output_type": "execute_result"
    }
   ],
   "source": [
    "portfolio.optimize_weight_given_return(.1) # 0.6666666666666666"
   ]
  },
  {
   "cell_type": "code",
   "execution_count": 7,
   "metadata": {},
   "outputs": [
    {
     "data": {
      "text/plain": [
       "[0.516993967592472, 1.36535897358400]"
      ]
     },
     "execution_count": 7,
     "metadata": {},
     "output_type": "execute_result"
    }
   ],
   "source": [
    "portfolio.optimize_weight_given_volatily(.2) # [0.516993967592472, 1.36535897358400]"
   ]
  },
  {
   "cell_type": "code",
   "execution_count": 27,
   "metadata": {},
   "outputs": [
    {
     "data": {
      "text/plain": [
       "0.122465"
      ]
     },
     "execution_count": 27,
     "metadata": {},
     "output_type": "execute_result"
    }
   ],
   "source": [
    "A = ETF(\"A\", r=0.05,stdev=0.1)\n",
    "B = ETF(\"B\", r=0.2,stdev=0.4)\n",
    "\n",
    "portfolio = Portfolio()\n",
    "portfolio.load_assets(  [A,B],\n",
    "                        [0.5169, 1-0.5169],\n",
    "                        [[A.stdev*A.stdev,0],[0,B.stdev,B.stdev]])\n",
    "\n",
    "portfolio.get_return() #0.122465"
   ]
  },
  {
   "cell_type": "code",
   "execution_count": 28,
   "metadata": {},
   "outputs": [
    {
     "data": {
      "text/plain": [
       "-0.004794999999999994"
      ]
     },
     "execution_count": 28,
     "metadata": {},
     "output_type": "execute_result"
    }
   ],
   "source": [
    "A = ETF(\"A\", r=0.05,stdev=0.1)\n",
    "B = ETF(\"B\", r=0.2,stdev=0.4)\n",
    "\n",
    "portfolio = Portfolio()\n",
    "portfolio.load_assets(  [A,B],\n",
    "                        [1.3653, 1-1.3653],\n",
    "                        [[A.stdev*A.stdev,0],[0,B.stdev,B.stdev]])\n",
    "\n",
    "portfolio.get_return() #-0.004794999999999994"
   ]
  },
  {
   "cell_type": "code",
   "execution_count": 18,
   "metadata": {},
   "outputs": [],
   "source": [
    "A = ETF(\"A\", r=0.05,stdev=0.1**(1/2))\n",
    "B = ETF(\"B\", r=0.13,stdev=0.04**(1/2))\n",
    "\n",
    "portfolio = Portfolio()\n",
    "portfolio.load_assets(  [A,B],\n",
    "                        [0, 0],\n",
    "                        [[A.stdev*A.stdev,0.007],[0.007,B.stdev*B.stdev]])\n",
    "\n",
    "portfolio.optimize_weight_given_return(.1) # 0.375"
   ]
  },
  {
   "cell_type": "code",
   "execution_count": null,
   "metadata": {},
   "outputs": [],
   "source": [
    "portfolio = Portfolio()\n",
    "A = ETF(\"A\", r=0.05,stdev=0.01**(1/2))\n",
    "B = ETF(\"B\", r=0.13,stdev=0.04**(1/2))\n",
    "portfolio.load_assets(  [A,B],\n",
    "                        [0.375, 0.625],\n",
    "                        [[A.stdev*A.stdev,0.007],[0.007,B.stdev*B.stdev]])\n",
    "portfolio.get_return(), portfolio.get_variance()**(1/2) #(0.1, 0.14252192813739226)"
   ]
  },
  {
   "cell_type": "code",
   "execution_count": 29,
   "metadata": {},
   "outputs": [
    {
     "data": {
      "text/plain": [
       "0.062000000000000006"
      ]
     },
     "execution_count": 29,
     "metadata": {},
     "output_type": "execute_result"
    }
   ],
   "source": [
    "A = ETF(\"A\", r=0.08,stdev=0.1)\n",
    "B = ETF(\"B\", r=0.11,stdev=0.4)\n",
    "r_free = ETF(\"R\", r=0.02,stdev=0)\n",
    "\n",
    "portfolio = Portfolio()\n",
    "portfolio.load_assets(  [A,B,r_free],\n",
    "                        [0.1, 0.4,0.5],\n",
    "                        [[A.stdev*A.stdev,0,0],[0,B.stdev,B.stdev,0],[0,0,0]])\n",
    "\n",
    "portfolio.get_return() #-0.004794999999999994\n",
    "portfolio.get_shan()"
   ]
  },
  {
   "cell_type": "code",
   "execution_count": 30,
   "metadata": {},
   "outputs": [
    {
     "data": {
      "text/plain": [
       "0.26249999999999996"
      ]
     },
     "execution_count": 30,
     "metadata": {},
     "output_type": "execute_result"
    }
   ],
   "source": [
    "(0.062-0.02)/.16"
   ]
  },
  {
   "cell_type": "code",
   "execution_count": 33,
   "metadata": {},
   "outputs": [
    {
     "data": {
      "text/plain": [
       "0.375"
      ]
     },
     "execution_count": 33,
     "metadata": {},
     "output_type": "execute_result"
    }
   ],
   "source": [
    "import math\n",
    "math.sqrt((0.12**2)*((0.5**2)/(0.16**2)))"
   ]
  },
  {
   "cell_type": "code",
   "execution_count": 34,
   "metadata": {},
   "outputs": [
    {
     "data": {
      "text/plain": [
       "0.013028000000000001"
      ]
     },
     "execution_count": 34,
     "metadata": {},
     "output_type": "execute_result"
    }
   ],
   "source": [
    "0.375*(.11*.8)*.08*.2+(1-0.375)*0.02"
   ]
  },
  {
   "cell_type": "code",
   "execution_count": 35,
   "metadata": {},
   "outputs": [
    {
     "data": {
      "text/plain": [
       "-0.05833333333333334"
      ]
     },
     "execution_count": 35,
     "metadata": {},
     "output_type": "execute_result"
    }
   ],
   "source": [
    "(0.0130-0.02)/(.12)"
   ]
  },
  {
   "cell_type": "code",
   "execution_count": 38,
   "metadata": {},
   "outputs": [
    {
     "data": {
      "text/plain": [
       "-2.112e-05"
      ]
     },
     "execution_count": 38,
     "metadata": {},
     "output_type": "execute_result"
    }
   ],
   "source": [
    "(0.12/0.08)*(.11*.8)*.08*.2*(1-(0.12/0.08))*0.02"
   ]
  },
  {
   "cell_type": "code",
   "execution_count": 21,
   "metadata": {},
   "outputs": [
    {
     "data": {
      "image/png": "[encoded data removed]",
      "text/plain": [
       "<Figure size 432x288 with 1 Axes>"
      ]
     },
     "metadata": {},
     "output_type": "display_data"
    }
   ],
   "source": [
    "import numpy as np\n",
    "import matplotlib.pyplot as plt\n",
    "%matplotlib inline  \n",
    "\n",
    "s_p_weights = np.linspace(0,4,1000)\n",
    "\n",
    "def get_SR(w):\n",
    "    return (w*0.09+(1-w)*0.09)/(w*0.2+(1-w)*0.55)\n",
    "\n",
    "plt.figure()\n",
    "plt.plot(s_p_weights,get_SR(s_p_weights))\n",
    "plt.show()"
   ]
  },
  {
   "cell_type": "code",
   "execution_count": 20,
   "metadata": {},
   "outputs": [
    {
     "data": {
      "text/plain": [
       "8999.999999991"
      ]
     },
     "execution_count": 20,
     "metadata": {},
     "output_type": "execute_result"
    }
   ],
   "source": [
    "get_SR(1.5714)"
   ]
  },
  {
   "cell_type": "code",
   "execution_count": null,
   "metadata": {},
   "outputs": [],
   "source": []
  }
 ],
 "metadata": {
  "interpreter": {
   "hash": "da1f2ad577c6a2e9df1bc8e1e9e0da21eb2ec86ff5846d2c3db3742cec64e96d"
  },
  "kernelspec": {
   "display_name": "Python 3",
   "language": "python",
   "name": "python3"
  },
  "language_info": {
   "codemirror_mode": {
    "name": "ipython",
    "version": 3
   },
   "file_extension": ".py",
   "mimetype": "text/x-python",
   "name": "python",
   "nbconvert_exporter": "python",
   "pygments_lexer": "ipython3",
   "version": "3.8.12"
  }
 },
 "nbformat": 4,
 "nbformat_minor": 2
}
