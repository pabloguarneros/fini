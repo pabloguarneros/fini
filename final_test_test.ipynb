{
 "cells": [
  {
   "cell_type": "code",
   "execution_count": 1,
   "metadata": {},
   "outputs": [],
   "source": [
    "from market.market import Market\n",
    "from assets.options import Option\n",
    "from assets.stocks import Stock"
   ]
  },
  {
   "cell_type": "code",
   "execution_count": 10,
   "metadata": {},
   "outputs": [
    {
     "name": "stdout",
     "output_type": "stream",
     "text": [
      "(self)\n",
      "(self, underlying_asset, time_to_maturity=1, strike_price=0, current_price=0)\n",
      "(self, p0=None, market_beta=0, expected_return=0, return_volatility=0)\n"
     ]
    }
   ],
   "source": [
    "import inspect\n",
    "dir(Market)\n",
    "print(inspect.signature(Market.__init__))\n",
    "print(inspect.signature(Option.__init__))\n",
    "print(inspect.signature(Stock.__init__))"
   ]
  },
  {
   "cell_type": "code",
   "execution_count": 2,
   "metadata": {},
   "outputs": [
    {
     "name": "stdout",
     "output_type": "stream",
     "text": [
      "<class 'list'>\n",
      "(0, 4)\n",
      "True\n"
     ]
    }
   ],
   "source": [
    "stock = Stock()\n",
    "optionA = Option(stock,time_to_maturity=1/4,strike_price=40,current_price=2)\n",
    "optionB = Option(stock,time_to_maturity=1/4,strike_price=50,current_price=5)\n",
    "optionC = Option(stock,time_to_maturity=1/4,strike_price=60,current_price=9)\n",
    "optionD = Option(stock,time_to_maturity=1/4,strike_price=70,current_price=12)\n",
    "m = Market()\n",
    "m.add([optionA,optionB,optionC,optionD])\n",
    "print((len(m.stocks),len(m.options)))\n",
    "print( (len(m.stocks),len(m.options)) == (0,4)) "
   ]
  }
 ],
 "metadata": {
  "interpreter": {
   "hash": "da1f2ad577c6a2e9df1bc8e1e9e0da21eb2ec86ff5846d2c3db3742cec64e96d"
  },
  "kernelspec": {
   "display_name": "Python 3.7.11 ('geo_spatial')",
   "language": "python",
   "name": "python3"
  },
  "language_info": {
   "codemirror_mode": {
    "name": "ipython",
    "version": 3
   },
   "file_extension": ".py",
   "mimetype": "text/x-python",
   "name": "python",
   "nbconvert_exporter": "python",
   "pygments_lexer": "ipython3",
   "version": "3.7.11"
  },
  "orig_nbformat": 4
 },
 "nbformat": 4,
 "nbformat_minor": 2
}
