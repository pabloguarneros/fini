{
 "cells": [
  {
   "cell_type": "code",
   "execution_count": 2,
   "metadata": {},
   "outputs": [],
   "source": [
    "import math\n",
    "from scipy.stats import norm\n",
    "\n",
    "\n",
    "# norm.cdf cumulative distribution function.\n",
    "\n",
    "def price_black_scholes(world, stock, option):\n",
    "    ''' Inputs:\n",
    "            world:\n",
    "                acc_rfr(float): annualized_continuously_compounded_risk_free_rate\n",
    "            stock:\n",
    "                price(float): stock price at time 0\n",
    "                annual_volatility(float): sigma\n",
    "            option:\n",
    "                k(float): strike price\n",
    "                t(float): time to maturity of option\n",
    "    '''\n",
    "    r = world[\"acc_rfr\"]\n",
    "    s0, sig = stock[\"price\"], stock[\"annual_volatility\"]\n",
    "    k, t = option[\"k\"], option[\"t\"]\n",
    "    x = math.log( s0/(k*math.e**(-r*t)) )/(sig*math.sqrt(t)) + 0.5*sig*math.sqrt(t)\n",
    "\n",
    "    if option[\"type\"] == \"call\":\n",
    "        return s0*norm.cdf(x)-k*math.e**(-r*t)*norm.cdf(x-sig*math.sqrt(t))\n",
    "    else:\n",
    "        return -s0*(1-norm.cdf(x))+k*math.e**(-r*t)*(1-norm.cdf(x-sig*math.sqrt(t)))\n",
    "\n",
    "    "
   ]
  },
  {
   "cell_type": "code",
   "execution_count": 13,
   "metadata": {},
   "outputs": [],
   "source": [
    "def put_call_parity(c0,world, stock,option):\n",
    "    ''' Inputs \n",
    "        c0 : option premium (call or put price)\n",
    "    '''\n",
    "    x, t = option[\"k\"], option[\"t\"]\n",
    "    s0 = stock[\"price\"]\n",
    "    r = world[\"acc_rfr\"]\n",
    "\n",
    "    if option[\"type\"] == \"call\":\n",
    "        return c0+x*math.e**(-r*t)-s0 #return for put\n",
    "    else:\n",
    "        return c0-(x*math.e**(-r*t))+s0 #return for call"
   ]
  },
  {
   "cell_type": "code",
   "execution_count": 4,
   "metadata": {},
   "outputs": [],
   "source": [
    "stock={\"price\":60,\"annual_volatility\":0.3}\n",
    "world={\"acc_rfr\":0.021} \n",
    "option={\"type\":\"call\",\"k\":62,\"t\":1/4}\n",
    "c0 = price_black_scholes(world,stock,option)\n",
    "p0 = put_call_parity(c0,world,stock,option)\n",
    "            \n",
    "assert (c0,p0) == (2.860532861187565, 4.535885805382421)\n"
   ]
  },
  {
   "cell_type": "code",
   "execution_count": 5,
   "metadata": {},
   "outputs": [],
   "source": [
    "stock={\"price\":60,\"annual_volatility\":0.3}\n",
    "world={\"acc_rfr\":0.021} #annualized_continuously_compounded_risk_free_rate\n",
    "option={\"type\":\"call\",\"k\":62,\"t\":1/4}\n",
    "c0 = price_black_scholes(world,stock,option)\n",
    "p0 = put_call_parity( c0,world,stock,option)\n",
    "\n",
    "            \n",
    "assert (c0,p0) == (2.860532861187565, 4.535885805382421)"
   ]
  },
  {
   "cell_type": "code",
   "execution_count": 14,
   "metadata": {},
   "outputs": [],
   "source": [
    "def get_price_change(world,stocks, option):\n",
    "\n",
    "    options = [0 for _ in stocks]\n",
    "    replications = [0 for _ in stocks]\n",
    "\n",
    "    for i, stock in enumerate(stocks):\n",
    "        c0 = price_black_scholes(world,stock,option)\n",
    "        p0 = put_call_parity(c0,world,stock,option)\n",
    "        #c_p0 = price_black_scholes(world,stock,option_replicated)\n",
    "        options[i] = c0\n",
    "        replications[i] = p0\n",
    "\n",
    "    print(options,replications)\n",
    "    print(\"option change:\",options[1]-options[0])\n",
    "    print(\"replication change:\",replications[1]-replications[0])"
   ]
  },
  {
   "cell_type": "code",
   "execution_count": 15,
   "metadata": {},
   "outputs": [
    {
     "name": "stdout",
     "output_type": "stream",
     "text": [
      "[7.810250741137153, 9.730741416359109] [3.152928756850443, 2.0734194320723986]\n",
      "option change: 1.9204906752219557\n",
      "replication change: -1.0795093247780443\n"
     ]
    }
   ],
   "source": [
    "stock1={\"price\":50,\"annual_volatility\":0.35}\n",
    "stock2={\"price\":47,\"annual_volatility\":0.35}\n",
    "world={\"acc_rfr\":0.0125}\n",
    "option={\"type\":\"put\",\"k\":55,\"t\":1/2}\n",
    "get_price_change(world,[stock1,stock2],option)"
   ]
  },
  {
   "cell_type": "code",
   "execution_count": null,
   "metadata": {},
   "outputs": [],
   "source": [
    "stock1={\"price\":50,\"annual_volatility\":0.30}\n",
    "stock2={\"price\":53,\"annual_volatility\":0.30}\n",
    "world={\"acc_rfr\":0.031}\n",
    "option={\"type\":\"call\",\"k\":52,\"t\":1/2}\n",
    "get_price_change(world,[stock1,stock2],option)"
   ]
  }
 ],
 "metadata": {
  "interpreter": {
   "hash": "ef064884badd19e9aeee1acc4248e51b028a1fbeaee7cef92a5778074870560d"
  },
  "kernelspec": {
   "display_name": "Python 3.8.12 64-bit ('cs166': conda)",
   "language": "python",
   "name": "python3"
  },
  "language_info": {
   "codemirror_mode": {
    "name": "ipython",
    "version": 3
   },
   "file_extension": ".py",
   "mimetype": "text/x-python",
   "name": "python",
   "nbconvert_exporter": "python",
   "pygments_lexer": "ipython3",
   "version": "3.8.12"
  },
  "orig_nbformat": 4
 },
 "nbformat": 4,
 "nbformat_minor": 2
}
