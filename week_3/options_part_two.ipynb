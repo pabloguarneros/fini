{
 "cells": [
  {
   "cell_type": "code",
   "execution_count": 2,
   "metadata": {},
   "outputs": [],
   "source": [
    "def get_u_d(S_0, S_u, S_d):\n",
    "    ''' Get by how much the up and down nodes for\n",
    "        the stock price increase/decrease.\n",
    "    '''\n",
    "    return (S_u/S_0, S_d/S_0)\n",
    "\n",
    "def get_qs(u,d,r):\n",
    "    ''' Get probabilities of the up and down movements.\n",
    "    '''\n",
    "    q_u = (1+r-d)/(u-d)\n",
    "    q_d = 1-q_u\n",
    "    return (q_u,q_d)\n",
    "\n",
    "def get_qs(u,d,r):\n",
    "    ''' Get probabilities of the up and down movements.\n",
    "    '''\n",
    "    q_u = (1+r-d)/(u-d)\n",
    "    q_d = 1-q_u\n",
    "    return (q_u,q_d)\n",
    "\n",
    "def get_price_at_merge(r, q_u, C_u, C_d):\n",
    "    ''' Get cashflow for one year maturity\n",
    "    '''\n",
    "    q_d = 1-q_u\n",
    "    return (q_u*C_u+ q_d*C_d)/(1+r)\n",
    "\n",
    "def get_price_at_merge_two(r, q_u, C_u, C_d):\n",
    "    ''' Get cashflow for two year maturity\n",
    "        Inputs:\n",
    "        end_cashflows(array of tuples) [(C_uu,C_ud),(C_du,C_dd)]\n",
    "        replaces (q_u**2*C_uu+q_u*q_d*C_ud+q_d*q_u*C_du+q_d**2*C_dd)/(1+r)**2\n",
    "    '''\n",
    "    q_d = 1-q_u\n",
    "    return (q_u*C_u+ q_d*C_d)/(1+r)\n",
    "\n",
    "'''\n",
    "What if we branch like this [[],[],[],[]].. and length of payoffs determines\n",
    "the branching factor\n",
    "'''\n",
    "\n",
    "def price_option(r,S_0,stock_prices,payoffs):\n",
    "    S_u, S_d= stock_prices\n",
    "    u,d = get_u_d(S_0,S_u,S_d)\n",
    "    q_u, _ = get_qs(u,d,r)\n",
    "    C_u = get_price_at_merge(r, q_u, payoffs[0][0],payoffs[0][1])\n",
    "    C_d = get_price_at_merge(r, q_u, payoffs[1][0],payoffs[1][1])\n",
    "    C_0 = get_price_at_merge(r, q_u, C_u, C_d)\n",
    "    return C_0\n"
   ]
  },
  {
   "cell_type": "code",
   "execution_count": 3,
   "metadata": {},
   "outputs": [],
   "source": [
    "def test_q1():\n",
    "    assert (\n",
    "        round( price_option(0.05,100,(125,80),[(56.25,0),(20,0)]), 4) ==\n",
    "        20.2262)\n",
    "    assert (\n",
    "        round(price_option(0.05,300,(420,210),[(1,0),(0,0)]),4) ==\n",
    "        0.2268)\n",
    "        \n",
    "test_q1()"
   ]
  },
  {
   "cell_type": "code",
   "execution_count": 4,
   "metadata": {},
   "outputs": [
    {
     "name": "stdout",
     "output_type": "stream",
     "text": [
      "[29.76190476190476, 10.58201058201058]\n",
      "[20.22619747487472]\n"
     ]
    },
    {
     "data": {
      "text/plain": [
       "[{'time': 1.0,\n",
       "  'movement': 'up',\n",
       "  'share_amount': 1.0000000000000002,\n",
       "  'bound_amount': -95.23809523809524},\n",
       " {'time': 1.0,\n",
       "  'movement': 'down',\n",
       "  'share_amount': 0.5555555555555556,\n",
       "  'bound_amount': -33.86243386243386},\n",
       " {'time': 0.0,\n",
       "  'movement': 'up',\n",
       "  'share_amount': 0.4262198706643151,\n",
       "  'bound_amount': -22.395789591556795}]"
      ]
     },
     "execution_count": 4,
     "metadata": {},
     "output_type": "execute_result"
    }
   ],
   "source": [
    "import math\n",
    "\n",
    "def get_share_amount(s_0, c_u, c_d, u, d):\n",
    "    return (c_u-c_d)/((u-d)*s_0)\n",
    "\n",
    "def get_bond_amount(r, c_u, c_d, u, d):\n",
    "    return (1/(1+r))*((u*c_d-d*c_u)/(u-d))\n",
    "\n",
    "def construct_portfolios(r, stock_prices, payoffs):\n",
    "    \n",
    "    s_0 = stock_prices[0]\n",
    "    s_1 = stock_prices[1]\n",
    "    u,d = get_u_d(s_0[0],s_1[0],s_1[1])\n",
    "    q_u, _ = get_qs(u,d,r)\n",
    "\n",
    "    portfolio = []\n",
    "    price_index = -1\n",
    "    time_interval = math.log(len(payoffs),2)\n",
    "\n",
    "    while len(payoffs)//2 > 0:\n",
    "\n",
    "        new_prices = []\n",
    "        change_index = 0\n",
    "\n",
    "        for i in range(0,len(payoffs),2):\n",
    "            c_u, c_d = payoffs[i], payoffs[i+1]\n",
    "            s_t = stock_prices[price_index][change_index]\n",
    "            delta = get_share_amount(s_t, c_u, c_d, u, d)\n",
    "            b = get_bond_amount(r, c_u, c_d, u, d)\n",
    "            new_prices.append(get_price_at_merge(r, q_u, c_u, c_d))\n",
    "            movement = \"up\" if change_index%2 == 0 else \"down\"\n",
    "            portfolio.append({\"time\":time_interval+price_index,\n",
    "                                \"movement\":movement,\n",
    "                                \"share_amount\":delta,\n",
    "                                \"bound_amount\":b})\n",
    "            change_index += 1\n",
    "\n",
    "        payoffs = new_prices\n",
    "        print(payoffs)\n",
    "        price_index -= 1\n",
    "\n",
    "    return portfolio\n",
    "\n",
    "construct_portfolios(0.05,[[100],[125,80]],[56.25,0,20,0])\n"
   ]
  },
  {
   "cell_type": "code",
   "execution_count": 16,
   "metadata": {},
   "outputs": [
    {
     "data": {
      "text/plain": [
       "103.68899127859143"
      ]
     },
     "execution_count": 16,
     "metadata": {},
     "output_type": "execute_result"
    }
   ],
   "source": [
    "def get_u_d(S_0, S_u, S_d):\n",
    "    ''' Get by how much the up and down nodes for\n",
    "        the stock price increase/decrease.\n",
    "    '''\n",
    "    return (S_u/S_0, S_d/S_0)\n",
    "\n",
    "def get_q(u,d,r):\n",
    "    ''' Get probabilities of the up and down movements.\n",
    "    '''\n",
    "    return (1+r-d)/(u-d)\n",
    "\n",
    "def get_price_at_merge(r, q_u, C_u, C_d):\n",
    "    ''' Get cashflow for one year maturity\n",
    "    '''\n",
    "    q_d = 1-q_u\n",
    "    return (q_u*C_u+q_d*C_d)/(1+r)\n",
    "\n",
    "\n",
    "s0, su, sd = 298, 444.02, 268.2\n",
    "cu,cd =244.02, 68.02\n",
    "r = 0.03\n",
    "\n",
    "u, d = get_u_d(S_0=s0, S_u=su, S_d=sd)\n",
    "qu, _ = get_qs(u=u,d=d,r=r)\n",
    "\n",
    "c0 = get_price_at_merge(r, q_u=qu, C_u=cu, C_d=cd)\n",
    "c0"
   ]
  },
  {
   "cell_type": "code",
   "execution_count": 11,
   "metadata": {},
   "outputs": [
    {
     "data": {
      "text/plain": [
       "0.7599033898305084"
      ]
     },
     "execution_count": 11,
     "metadata": {},
     "output_type": "execute_result"
    }
   ],
   "source": [
    "s0, su, sd = 200, 298, 180\n",
    "cu,cd=104.2580, 14.5894\n",
    "r = 0.03\n",
    "\n",
    "u, d = get_u_d(S_0=s0, S_u=su, S_d=sd)\n",
    "qu, qd = get_qs(u=u,d=d,r=r)\n",
    "\n",
    "delta = get_share_amount(s0, c_u=cu, c_d=cd, u=u, d=d)\n",
    "b = get_bond_amount(r, c_u=cu, c_d=cd, u=u, d=d)\n",
    "delta"
   ]
  },
  {
   "cell_type": "markdown",
   "metadata": {},
   "source": []
  }
 ],
 "metadata": {
  "interpreter": {
   "hash": "da1f2ad577c6a2e9df1bc8e1e9e0da21eb2ec86ff5846d2c3db3742cec64e96d"
  },
  "kernelspec": {
   "display_name": "Python 3.7.11 64-bit ('geo_spatial': conda)",
   "language": "python",
   "name": "python3"
  },
  "language_info": {
   "codemirror_mode": {
    "name": "ipython",
    "version": 3
   },
   "file_extension": ".py",
   "mimetype": "text/x-python",
   "name": "python",
   "nbconvert_exporter": "python",
   "pygments_lexer": "ipython3",
   "version": "3.7.11"
  },
  "orig_nbformat": 4
 },
 "nbformat": 4,
 "nbformat_minor": 2
}
