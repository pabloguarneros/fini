{
 "cells": [
  {
   "cell_type": "code",
   "execution_count": 2,
   "metadata": {},
   "outputs": [],
   "source": [
    "#getting equity cost of capital\n",
    "\n",
    "market_return = 0.09\n",
    "debt_return = 0.061\n",
    "risk_free_return = 0.03\n",
    "equity_beta = 1.6\n",
    "DE_ratio = 4.1\n",
    "\n",
    "equity_cost_of_capital = risk_free_return + equity_beta*(market_return-risk_free_return)\n",
    "debt_beta = (debt_return - risk_free_return)/(market_return - risk_free_return)\n",
    "asset_return = (equity_cost_of_capital + DE_ratio*debt_return)/(1+DE_ratio)\n",
    "asset_beta = (1/(DE_ratio+1))*equity_beta + (DE_ratio/(DE_ratio+1)) * debt_beta\n",
    "\n",
    "print(equity_cost_of_capital, debt_beta, asset_return, asset_beta)\n",
    "#0.126 0.5166666666666667 0.0737450980392157 0.7290849673202615"
   ]
  },
  {
   "cell_type": "code",
   "execution_count": 3,
   "metadata": {},
   "outputs": [
    {
     "name": "stdout",
     "output_type": "stream",
     "text": [
      "0.126 0.5166666666666667 0.0737450980392157 0.7290849673202615\n"
     ]
    }
   ],
   "source": [
    "print(equity_cost_of_capital, debt_beta, asset_return, asset_beta)"
   ]
  },
  {
   "cell_type": "code",
   "execution_count": 5,
   "metadata": {},
   "outputs": [
    {
     "name": "stdout",
     "output_type": "stream",
     "text": [
      "0.1458 0.099\n"
     ]
    }
   ],
   "source": [
    "DE_ratio = 0.6\n",
    "asset_return = 0.099\n",
    "debt_beta = 0\n",
    "risk_free_return = 0.021\n",
    "\n",
    "# if debt is risk free, it means risk at the risk-free rate, not zero\n",
    "equity_return = asset_return + DE_ratio*(asset_return-risk_free_return)\n",
    "\n",
    "## with an all equity firm\n",
    "equity_return_2 = asset_return\n",
    "\n",
    "print(equity_return, equity_return_2)"
   ]
  },
  {
   "cell_type": "code",
   "execution_count": 9,
   "metadata": {},
   "outputs": [
    {
     "name": "stdout",
     "output_type": "stream",
     "text": [
      "0.056804733727810655\n"
     ]
    }
   ],
   "source": [
    "long_term_outstanding = 400 # million\n",
    "YTM_debt_return = 0.06\n",
    "share_amount = 12 #million\n",
    "price_per_share = 23\n",
    "book_value_per_share = 25 # difference between total assets and total liabilities\n",
    "expected_stock_return = 0.15\n",
    "mill = 1000000\n",
    "total_liabilities = long_term_outstanding*mill + share_amount*mill*book_value_per_share\n",
    "share_holder_equity = share_amount*mill*(price_per_share-book_value_per_share)\n",
    "DE_ratio = total_liabilities/share_holder_equity\n",
    "debt_weight = DE_ratio/(DE_ratio+1)\n",
    "equity_weight = 1 - debt_weight\n",
    "waac = YTM_debt_return*debt_weight + expected_stock_return*equity_weight\n",
    "print(waac)"
   ]
  },
  {
   "cell_type": "code",
   "execution_count": 1,
   "metadata": {},
   "outputs": [
    {
     "data": {
      "text/plain": [
       "(0.1428571428571428, 0.12083428571428567)"
      ]
     },
     "execution_count": 1,
     "metadata": {},
     "output_type": "execute_result"
    }
   ],
   "source": [
    "class Bond:\n",
    "    def __init__(self, **kwargs):\n",
    "        self.p0 = kwargs[\"p0\"]\n",
    "        self.recovery_rate = kwargs[\"recovery_rate\"]\n",
    "        self.default_p = kwargs[\"default_p\"]\n",
    "        self.fv = kwargs[\"fv\"]\n",
    "\n",
    "    def get_promised_yield(self):\n",
    "        return ((self.fv/self.p0)-1)\n",
    "    \n",
    "    def get_expected_YTM(self):\n",
    "        expected_return = (1-self.default_p)*self.fv+(self.default_p*self.recovery_rate*self.fv)\n",
    "        return (expected_return/bond.p0) - 1\n",
    "\n",
    "bond = Bond(p0=87.5, recovery_rate=0.59, default_p=0.047, fv=100)\n",
    "bond.get_promised_yield(), bond.get_expected_YTM()"
   ]
  },
  {
   "cell_type": "code",
   "execution_count": 8,
   "metadata": {},
   "outputs": [
    {
     "name": "stdout",
     "output_type": "stream",
     "text": [
      "next year bond up state payoff 81\n",
      "next year bond down state payoff 72.0\n",
      "next year stock up state payoff 47.0\n",
      "next year stock up state payoff 0.0\n",
      "current_price bond 75.28609925106741\n",
      "current_price stock 24.71390074893259\n",
      "the promised yield of bond is 0.07589582679636009\n",
      "default prob is 0.37\n",
      "recovery rate is 0.8888888888888888\n",
      "expected yield: 0.03166455391695422\n",
      "default 0.04423127287940587\n",
      "risk premium: 0.011164553916954218\n"
     ]
    }
   ],
   "source": [
    "asset_market_value = 100 # million\n",
    "bond_outstanding = 81 # million\n",
    "stock_value = asset_market_value-bond_outstanding\n",
    "u_growth = 1.28\n",
    "d_growth = 0.72\n",
    "qu = 0.63\n",
    "qd = 1-qu\n",
    "rf= 0.0205\n",
    "\n",
    "payoff_bond_u = bond_outstanding\n",
    "payoff_bond_d = min(d_growth*asset_market_value,81)\n",
    "payoff_stock_u = asset_market_value*u_growth-payoff_bond_u\n",
    "payoff_stock_d = asset_market_value*d_growth-payoff_bond_d\n",
    "\n",
    "asset_market_value = 1\n",
    "'''\n",
    "#100 = 128qu + 72qd\n",
    "#1/(1+rf) = qu + qd\n",
    "# qu = 1/(1+rf) - qd\n",
    "# (100-72qd)/128 = qu\n",
    "# 1/(1+rf) - qd = (100-72qd)/128\n",
    "# 128/(1+rf) = 100-72qd + 128qd\n",
    "# (128/(1+rf) - 100)/(128-72) \n",
    "'''\n",
    "state_price_u = (1/(1+rf)) - (128/(1+rf) - 100)/(128-72)\n",
    "state_price_d = (128/(1+rf) - 100)/(128-72)\n",
    "\n",
    "print(\"next year bond up state payoff\", payoff_bond_u)\n",
    "print(\"next year bond down state payoff\", payoff_bond_d)\n",
    "print(\"next year stock up state payoff\", payoff_stock_u)\n",
    "print(\"next year stock up state payoff\", payoff_stock_d)\n",
    "\n",
    "bond_p0 = (payoff_bond_u*state_price_u+payoff_bond_d*state_price_d)\n",
    "stock_p0 = (payoff_stock_u*state_price_u+payoff_stock_d*state_price_d)\n",
    "print(\"current_price bond\",bond_p0)\n",
    "print(\"current_price stock\",stock_p0)\n",
    "promised_yield = (bond_outstanding/bond_p0)-1\n",
    "print(\"the promised yield of bond is\", promised_yield)\n",
    "default_prob = qd\n",
    "print(\"default prob is\", qd)\n",
    "\n",
    "recovery_rate = 1-(payoff_bond_u-payoff_bond_d)/payoff_bond_u\n",
    "print(\"recovery rate is\",recovery_rate)\n",
    "\n",
    "expected_yield = ((qu*payoff_bond_u+qd*payoff_bond_d)/bond_p0)-1\n",
    "default_premium = promised_yield - expected_yield\n",
    "risk_premium = expected_yield - rf # or is it promised yield\n",
    "print(\"expected yield:\",expected_yield)\n",
    "print(\"default\",default_premium)\n",
    "print(\"risk premium:\",risk_premium)"
   ]
  }
 ],
 "metadata": {
  "interpreter": {
   "hash": "da1f2ad577c6a2e9df1bc8e1e9e0da21eb2ec86ff5846d2c3db3742cec64e96d"
  },
  "kernelspec": {
   "display_name": "Python 3.7.11 ('geo_spatial')",
   "language": "python",
   "name": "python3"
  },
  "language_info": {
   "codemirror_mode": {
    "name": "ipython",
    "version": 3
   },
   "file_extension": ".py",
   "mimetype": "text/x-python",
   "name": "python",
   "nbconvert_exporter": "python",
   "pygments_lexer": "ipython3",
   "version": "3.7.11"
  },
  "orig_nbformat": 4
 },
 "nbformat": 4,
 "nbformat_minor": 2
}
