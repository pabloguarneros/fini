{
 "cells": [
  {
   "cell_type": "code",
   "execution_count": null,
   "metadata": {},
   "outputs": [],
   "source": [
    "from assets.options import Option\n",
    "from assets.stocks import Stock"
   ]
  },
  {
   "cell_type": "markdown",
   "metadata": {},
   "source": [
    "\n",
    "    def __init__(self,  underlying_asset,\n",
    "                        time_to_maturity=1,\n",
    "                        strike_price=0,\n",
    "                        current_price=0):\n",
    "                \n",
    "        self.t = time_to_maturity #time to maturity\n",
    "        self.k = strike_price #strike_price\n",
    "        self.p0 = current_price #price at 0\n",
    "        self.underlying_asset = underlying_asset\n",
    "        self.type = \"put\" # long-put, long-call, short-put, short-call"
   ]
  },
  {
   "cell_type": "code",
   "execution_count": null,
   "metadata": {},
   "outputs": [],
   "source": [
    "def get_min_price(optionA,optionB,stock):\n",
    "    B = (optionA.p0-stock.p0)/-optionA.k\n",
    "    return stock.p0-optionB.k*B\n",
    "\n",
    "s = Stock(p0=41.6)\n",
    "co1 = Option(s, time_to_maturity=1, strike_price=20,current_price=22.2)\n",
    "co2 = Option(s, time_to_maturity=1, strike_price=40)\n",
    "get_min_price(co1,co2,s) # 2.7999999"
   ]
  },
  {
   "cell_type": "code",
   "execution_count": null,
   "metadata": {},
   "outputs": [],
   "source": [
    "co1.get_current_price()\n",
    "co1.get_future_price(1,0.01) # 22.422"
   ]
  },
  {
   "cell_type": "code",
   "execution_count": null,
   "metadata": {},
   "outputs": [],
   "source": [
    "import matplotlib.pyplot as plt\n",
    "import numpy as np\n",
    "import pandas as pd"
   ]
  },
  {
   "cell_type": "code",
   "execution_count": null,
   "metadata": {},
   "outputs": [],
   "source": [
    "class PayoffDiagram:\n",
    "    \n",
    "    ''' Create a Payoff Diagram\n",
    "    '''\n",
    "\n",
    "    def build_w_stock_change(self,price_range, portfolio):\n",
    "        ''' Inputs:\n",
    "                price_range (int tuple): range of prices for underlying asset\n",
    "                portfolio ([]options): portfolio of options\n",
    "        '''\n",
    "        xmin, xmax = price_range\n",
    "        stock_prices = np.linspace(xmin, xmax, 10)\n",
    "        calculate_payoff = lambda e: sum([option.get_payoff(stock_price=e) for option in portfolio])\n",
    "        payoff = list(map(calculate_payoff,stock_prices))\n",
    "        \n",
    "        plt.title(f\"Payoff Diagram for \\n {[option for option in portfolio]}\")\n",
    "        plt.plot(stock_prices, payoff)\n",
    "        plt.xlabel('Stock Price')\n",
    "        plt.ylabel('Payoffs')\n",
    "        x1,x2, _, _ = plt.axis()  \n",
    "        plt.axis((x1,x2,-200,200))\n",
    "        plt.axhline(y = 0, color=\"black\")\n",
    "        plt.show()\n"
   ]
  },
  {
   "cell_type": "code",
   "execution_count": null,
   "metadata": {},
   "outputs": [],
   "source": [
    "portfolio = [co1,co2]\n",
    "d = PayoffDiagram()\n",
    "d.build_w_stock_change((0,140),*portfolio)"
   ]
  },
  {
   "cell_type": "code",
   "execution_count": 2,
   "metadata": {},
   "outputs": [
    {
     "data": {
      "image/png": "[encoded data removed]",
      "text/plain": [
       "<Figure size 432x288 with 1 Axes>"
      ]
     },
     "metadata": {},
     "output_type": "display_data"
    },
    {
     "ename": "NameError",
     "evalue": "name 'plt' is not defined",
     "output_type": "error",
     "traceback": [
      "\u001b[0;31m---------------------------------------------------------------------------\u001b[0m",
      "\u001b[0;31mNameError\u001b[0m                                 Traceback (most recent call last)",
      "\u001b[0;32m<ipython-input-2-dbcb3ca2697d>\u001b[0m in \u001b[0;36m<module>\u001b[0;34m()\u001b[0m\n\u001b[1;32m      7\u001b[0m \u001b[0;34m\u001b[0m\u001b[0m\n\u001b[1;32m      8\u001b[0m \u001b[0mco1\u001b[0m\u001b[0;34m.\u001b[0m\u001b[0mbuild_payoff_diagram\u001b[0m\u001b[0;34m(\u001b[0m\u001b[0;34m(\u001b[0m\u001b[0;36m0\u001b[0m\u001b[0;34m,\u001b[0m\u001b[0;36m140\u001b[0m\u001b[0;34m)\u001b[0m\u001b[0;34m)\u001b[0m\u001b[0;34m\u001b[0m\u001b[0;34m\u001b[0m\u001b[0m\n\u001b[0;32m----> 9\u001b[0;31m \u001b[0mplt\u001b[0m\u001b[0;34m.\u001b[0m\u001b[0mshow\u001b[0m\u001b[0;34m(\u001b[0m\u001b[0;34m)\u001b[0m\u001b[0;34m\u001b[0m\u001b[0;34m\u001b[0m\u001b[0m\n\u001b[0m",
      "\u001b[0;31mNameError\u001b[0m: name 'plt' is not defined"
     ]
    }
   ],
   "source": [
    "from assets.stocks import Stock\n",
    "from assets.options import Option\n",
    "\n",
    "s = Stock(p0=41.6)\n",
    "co1 = Option(s, time_to_maturity=1, strike_price=20,current_price=22.2)\n",
    "co2 = Option(s, time_to_maturity=1, strike_price=40)\n",
    "\n",
    "co1.build_payoff_diagram((0,140))"
   ]
  }
 ],
 "metadata": {
  "interpreter": {
   "hash": "487083f9487dda503da8ddd2afd50aff997e8fbbaa07ca7ecae06deb940cc6aa"
  },
  "kernelspec": {
   "display_name": "Python 3.6.8 64-bit ('base': conda)",
   "language": "python",
   "name": "python3"
  },
  "language_info": {
   "codemirror_mode": {
    "name": "ipython",
    "version": 3
   },
   "file_extension": ".py",
   "mimetype": "text/x-python",
   "name": "python",
   "nbconvert_exporter": "python",
   "pygments_lexer": "ipython3",
   "version": "3.6.8"
  },
  "orig_nbformat": 4
 },
 "nbformat": 4,
 "nbformat_minor": 2
}
