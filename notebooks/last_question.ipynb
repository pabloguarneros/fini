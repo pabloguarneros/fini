{
 "cells": [
  {
   "cell_type": "code",
   "execution_count": 1,
   "metadata": {},
   "outputs": [],
   "source": [
    "from assets.options import *\n",
    "from assets.stocks import *"
   ]
  },
  {
   "cell_type": "code",
   "execution_count": 2,
   "metadata": {},
   "outputs": [],
   "source": [
    "def get_min_price(optionA,optionB,stock):\n",
    "    B = (optionA.p0-stock.p0)/-optionA.k\n",
    "    return stock.p0-optionB.k*B"
   ]
  },
  {
   "cell_type": "code",
   "execution_count": 3,
   "metadata": {},
   "outputs": [
    {
     "name": "stdout",
     "output_type": "stream",
     "text": [
      "20\n"
     ]
    },
    {
     "data": {
      "text/plain": [
       "2.799999999999997"
      ]
     },
     "execution_count": 3,
     "metadata": {},
     "output_type": "execute_result"
    }
   ],
   "source": [
    "co1 = LongCallOption(t=1,k=20,p0=22.2)\n",
    "co2 = LongCallOption(t=1, k=40)\n",
    "s = Stock(p0=41.6)\n",
    "print(co1.k)\n",
    "get_min_price(co1,co2,s)"
   ]
  },
  {
   "cell_type": "code",
   "execution_count": 4,
   "metadata": {},
   "outputs": [
    {
     "data": {
      "text/plain": [
       "22.422"
      ]
     },
     "execution_count": 4,
     "metadata": {},
     "output_type": "execute_result"
    }
   ],
   "source": [
    "co1.get_current_price()\n",
    "co1.get_future_price(1,0.01)"
   ]
  },
  {
   "cell_type": "code",
   "execution_count": 5,
   "metadata": {},
   "outputs": [],
   "source": [
    "import matplotlib.pyplot as plt\n",
    "import numpy as np\n",
    "import pandas as pd"
   ]
  },
  {
   "cell_type": "code",
   "execution_count": 6,
   "metadata": {},
   "outputs": [],
   "source": [
    "class PayoffDiagram:\n",
    "\n",
    "    def build_w_stock_change(self,price_range,*args):\n",
    "        stock_prices = np.arange(\n",
    "                            price_range[0],\n",
    "                            price_range[1],\n",
    "                            (price_range[1]-price_range[0])//10)\n",
    "        payoff_calc = lambda e: sum([option.get_payoff(stock_price=e) for option in args])\n",
    "        payoff = list(map(payoff_calc,stock_prices))\n",
    "        plt.title(f\"Payoff Diagram for \\n {[arg for arg in args]}\")\n",
    "        plt.plot(stock_prices, payoff)\n",
    "        plt.xlabel('Stock Price')\n",
    "        plt.ylabel('Payoffs')\n",
    "        x1,x2, _, _ = plt.axis()  \n",
    "        plt.axis((x1,x2,-200,200))\n",
    "        plt.axhline(y = 0, color=\"black\")\n",
    "        plt.show()\n"
   ]
  },
  {
   "cell_type": "code",
   "execution_count": 9,
   "metadata": {},
   "outputs": [
    {
     "data": {
      "image/png": "[encoded data removed]",
      "text/plain": [
       "<Figure size 432x288 with 1 Axes>"
      ]
     },
     "metadata": {},
     "output_type": "display_data"
    }
   ],
   "source": [
    "portfolio = [co1,co2]\n",
    "d = PayoffDiagram()\n",
    "d.build_w_stock_change((0,140),*portfolio)"
   ]
  }
 ],
 "metadata": {
  "interpreter": {
   "hash": "487083f9487dda503da8ddd2afd50aff997e8fbbaa07ca7ecae06deb940cc6aa"
  },
  "kernelspec": {
   "display_name": "Python 3.6.8 64-bit ('base': conda)",
   "language": "python",
   "name": "python3"
  },
  "language_info": {
   "codemirror_mode": {
    "name": "ipython",
    "version": 3
   },
   "file_extension": ".py",
   "mimetype": "text/x-python",
   "name": "python",
   "nbconvert_exporter": "python",
   "pygments_lexer": "ipython3",
   "version": "3.6.8"
  },
  "orig_nbformat": 4
 },
 "nbformat": 4,
 "nbformat_minor": 2
}
