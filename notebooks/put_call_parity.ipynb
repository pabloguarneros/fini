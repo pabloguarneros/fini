{
 "cells": [
  {
   "cell_type": "code",
   "execution_count": 1,
   "metadata": {},
   "outputs": [],
   "source": [
    "import numpy as np"
   ]
  },
  {
   "cell_type": "code",
   "execution_count": 2,
   "metadata": {},
   "outputs": [
    {
     "data": {
      "text/plain": [
       "0.025317807984289897"
      ]
     },
     "execution_count": 2,
     "metadata": {},
     "output_type": "execute_result"
    }
   ],
   "source": [
    "def get_r(c,t,k,p,s):\n",
    "    return -(np.log((p+s-c)/k)/t)\n",
    "\n",
    "get_r(19,1,160,45,130) #works"
   ]
  },
  {
   "cell_type": "code",
   "execution_count": 35,
   "metadata": {},
   "outputs": [
    {
     "name": "stdout",
     "output_type": "stream",
     "text": [
      "year 1 (168.0, 112.0)\n",
      "year 2 high (201.6, 134.4)\n",
      "year 2 low (134.4, 89.60000000000001)\n"
     ]
    }
   ],
   "source": [
    "def next_year(current,by_how_much):\n",
    "    high = current*(1+by_how_much)\n",
    "    low = current*(1-by_how_much)\n",
    "    return (high,low)\n",
    "\n",
    "high, low = next_year(140,.2)\n",
    "print(\"year 1\",(high,low))\n",
    "print(\"year 2 high\",next_year(high,.2))\n",
    "print(\"year 2 low\",next_year(low,.2))\n",
    "\n",
    "def get_stock_cash_quantity(high_price, low_price, high_payoff, low_payoff, r):\n",
    "    left_side = np.matrix([[high_price, 1+r], [low_price, 1+r]])\n",
    "    payoffs = np.matrix([[high_payoff],[low_payoff]])\n",
    "    result = np.matmul(left_side.I,payoffs)\n",
    "    return f\"stock:{result[0]} cash:{result[1]}\""
   ]
  },
  {
   "cell_type": "code",
   "execution_count": 36,
   "metadata": {},
   "outputs": [
    {
     "data": {
      "text/plain": [
       "'stock:[[0.91666667]] cash:[[-117.33333333]]'"
      ]
     },
     "execution_count": 36,
     "metadata": {},
     "output_type": "execute_result"
    }
   ],
   "source": [
    "get_stock_cash_quantity(201.6,134.4,61.6,0,0.05)"
   ]
  },
  {
   "cell_type": "code",
   "execution_count": 37,
   "metadata": {},
   "outputs": [
    {
     "data": {
      "text/plain": [
       "61.599999999999994"
      ]
     },
     "execution_count": 37,
     "metadata": {},
     "output_type": "execute_result"
    }
   ],
   "source": [
    "201.6-140"
   ]
  },
  {
   "cell_type": "code",
   "execution_count": 24,
   "metadata": {},
   "outputs": [
    {
     "data": {
      "text/plain": [
       "'stock:[[0.]] cash:[[0.]]'"
      ]
     },
     "execution_count": 24,
     "metadata": {},
     "output_type": "execute_result"
    }
   ],
   "source": [
    "get_stock_cash_quantity(134.4,89,0,0,0.05)"
   ]
  },
  {
   "cell_type": "code",
   "execution_count": 38,
   "metadata": {},
   "outputs": [
    {
     "data": {
      "text/plain": [
       "'stock:[[0.65476796]] cash:[[-69.84191543]]'"
      ]
     },
     "execution_count": 38,
     "metadata": {},
     "output_type": "execute_result"
    }
   ],
   "source": [
    "get_stock_cash_quantity(168,112,168*0.9166667-117.333,112*0,0.05)"
   ]
  },
  {
   "cell_type": "code",
   "execution_count": 39,
   "metadata": {},
   "outputs": [
    {
     "data": {
      "text/plain": [
       "21.82559897"
      ]
     },
     "execution_count": 39,
     "metadata": {},
     "output_type": "execute_result"
    }
   ],
   "source": [
    "0.65476796*140-69.84191543"
   ]
  }
 ],
 "metadata": {
  "interpreter": {
   "hash": "487083f9487dda503da8ddd2afd50aff997e8fbbaa07ca7ecae06deb940cc6aa"
  },
  "kernelspec": {
   "display_name": "Python 3.6.8 64-bit ('base': conda)",
   "language": "python",
   "name": "python3"
  },
  "language_info": {
   "codemirror_mode": {
    "name": "ipython",
    "version": 3
   },
   "file_extension": ".py",
   "mimetype": "text/x-python",
   "name": "python",
   "nbconvert_exporter": "python",
   "pygments_lexer": "ipython3",
   "version": "3.6.8"
  },
  "orig_nbformat": 4
 },
 "nbformat": 4,
 "nbformat_minor": 2
}
